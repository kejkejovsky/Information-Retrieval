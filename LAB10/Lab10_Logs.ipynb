{
 "cells": [
  {
   "cell_type": "code",
   "execution_count": 2,
   "metadata": {},
   "outputs": [],
   "source": [
    "%matplotlib inline\n",
    "import numpy as np\n",
    "import matplotlib.pyplot as plt\n",
    "import datetime"
   ]
  },
  {
   "cell_type": "markdown",
   "metadata": {},
   "source": [
    "1) Log file is loaded"
   ]
  },
  {
   "cell_type": "code",
   "execution_count": 3,
   "metadata": {},
   "outputs": [
    {
     "name": "stdout",
     "output_type": "stream",
     "text": [
      "156.15.13.173 [01/Jan/2018:11:13:49 +0100] \"GET AddProduct.html HTTP/1.0\" 200 2356\n",
      "176.247.135.49 [01/Jan/2018:11:18:07 +0100] \"GET Shop.html HTTP/1.0\" 200 7466\n",
      "176.247.135.49 [01/Jan/2018:11:19:05 +0100] \"GET AddProduct.html HTTP/1.0\" 200 2356\n"
     ]
    }
   ],
   "source": [
    "file = open(\"log.txt\", \"r\") \n",
    "lines = file.readlines()\n",
    "for l in range(3): print(lines[l][:-1])"
   ]
  },
  {
   "cell_type": "markdown",
   "metadata": {},
   "source": [
    "2) Cass \"Request\" parses and keeps data of a single requests. Complete the TODO, where a given \"line\" (string) should be parsed in order to dervie the ip of the host making the request, time of the request (in seconds), and target page (name)."
   ]
  },
  {
   "cell_type": "code",
   "execution_count": 4,
   "metadata": {},
   "outputs": [],
   "source": [
    "class Request:\n",
    "    def __init__(self, line):\n",
    "        # TODO DO PARSING HERE\n",
    "        \n",
    "        self.ip = \"0.0.0.0\"\n",
    "        # convert hours + minutes + seconds -> total number of seconds\n",
    "        self.time = 0\n",
    "        self.page = \"error.html\"\n",
    "        \n",
    "        splited = line.split(\" \")\n",
    "        self.ip = splited[0]\n",
    "        time = splited[1].split(\":\")\n",
    "        self.time = int(time[1]) * 3600 + int(time[2]) * 60 + int(time[3])\n",
    "        self.page = splited[4]\n",
    "        \n",
    "    def __repr__(self):\n",
    "        return self.ip + \"     \" +  str(datetime.timedelta(seconds=self.time)) + \" -> \" + self.page\n"
   ]
  },
  {
   "cell_type": "markdown",
   "metadata": {},
   "source": [
    "3) Each line of log.txt is parsed and the Request objects are added to the list"
   ]
  },
  {
   "cell_type": "code",
   "execution_count": 5,
   "metadata": {},
   "outputs": [
    {
     "name": "stdout",
     "output_type": "stream",
     "text": [
      "156.15.13.173     11:13:49 -> AddProduct.html\n",
      "176.247.135.49     11:18:07 -> Shop.html\n",
      "176.247.135.49     11:19:05 -> AddProduct.html\n",
      "176.247.135.49     11:29:05 -> Summary.html\n",
      "69.84.30.199     11:43:59 -> Shop.html\n",
      "69.84.30.199     11:45:16 -> AddProduct.html\n",
      "57.116.45.120     11:46:45 -> AddProduct.html\n",
      "69.84.30.199     11:50:36 -> Summary.html\n",
      "69.84.30.199     11:52:38 -> Payment.html\n",
      "26.19.183.202     11:53:11 -> AddProduct.html\n"
     ]
    }
   ],
   "source": [
    "reqs = [Request(line) for line in lines]\n",
    "for l in range(10): print(reqs[l]) "
   ]
  },
  {
   "cell_type": "markdown",
   "metadata": {},
   "source": [
    "# Exercise"
   ]
  },
  {
   "cell_type": "markdown",
   "metadata": {},
   "source": [
    "Your task is to analyze the log file. You should indentify the users and sessions. Then, compute the following: <br>\n",
    "3.1) the number of sessions (should be 1000 :) ), <br>\n",
    "3.2) the number of users, <br>\n",
    "3.3) the average number of sessions per one user <br>\n",
    "3.4) use the distribution plot to visualize the sessions' lengths (minutes);  <br>\n",
    "3.5) use the distribution plot to visualize the sessions' lengths (the number of requests) <br>\n",
    "3.6) use the distribution plot to visualize sessions' starting times (hours). <br>\n",
    "3.7) which web page is the most common entry point?; for each page plot the number of times it has been an entry page,  <br>\n",
    "3.8) which web page is the most common departure point?; for each page plot the number of times the user stopped a session while being on this page, <br>\n",
    "3.9) for each page plot the average time the user stayed on this page <br>\n",
    "3.10) print the fist 10 sessions (paths). <br>\n",
    "\n",
    "You may find the following classes helpful and data."
   ]
  },
  {
   "cell_type": "code",
   "execution_count": 6,
   "metadata": {},
   "outputs": [],
   "source": [
    "class Session:\n",
    "    def __init__(self):\n",
    "        self.startTime = 0\n",
    "        self.stopTime = 0\n",
    "        self.requests = []\n",
    "        \n",
    "    def __repr__(self):\n",
    "        print(\"SESSION\")\n",
    "        print(self.startTime)\n",
    "        print(self.stopTime)\n",
    "        STR = \"\"\n",
    "        for r in self.requests:\n",
    "            print(r)\n",
    "            STR += (\"  \" + r.page + \"    \" + str(datetime.timedelta(seconds=r.time)) + \"\\n\")\n",
    "        return STR\n",
    "\n",
    "class Computer:\n",
    "    def __init__(self):\n",
    "        self.ip = []\n",
    "        self.sessions = []\n",
    "    def __repr__(self):\n",
    "        return self.ip\n",
    "\n",
    "PAGES = [\"Shop.html\", \"AddProduct.html\", \"Summary.html\", \"Payment.html\",\"About.html\", \"Contact.html\"]\n",
    "\n",
    "LINKS = [[1, 4],\n",
    "         [2,4],\n",
    "         [3],\n",
    "         [],\n",
    "         [1,5],\n",
    "         []]\n",
    "\n",
    "#plot distribution\n",
    "#count, bins, ignored = plt.hist(data, 50, alpha=0.5, normed=True)\n",
    "#plt.plot()\n",
    "\n",
    "#x_axis = np.arange(len(pages))\n",
    "#plt.bar(x_axis, data, align='center', alpha=0.5)\n",
    "#plt.xticks(y_pos, pages, rotation=90)"
   ]
  },
  {
   "cell_type": "code",
   "execution_count": 82,
   "metadata": {},
   "outputs": [],
   "source": [
    "theta = 1800\n",
    "computers = dict()\n",
    "reqs = [Request(line) for line in lines]\n",
    "for r in reqs:\n",
    "    add = False\n",
    "    if r.ip not in computers:\n",
    "        computers[r.ip] = Computer()\n",
    "    computers[r.ip].ip = r.ip\n",
    "    for s in computers[r.ip].sessions:\n",
    "        if r.time - s.startTime <= theta:\n",
    "            add = True\n",
    "            s.stopTime = r.time\n",
    "            s.requests.append(r)\n",
    "    if(add == False):\n",
    "        new = Session()\n",
    "        new.startTime = r.time\n",
    "        new.stopTime = r.time\n",
    "        new.requests.append(r)\n",
    "        computers[r.ip].sessions.append(new)\n"
   ]
  },
  {
   "cell_type": "code",
   "execution_count": 61,
   "metadata": {},
   "outputs": [
    {
     "name": "stdout",
     "output_type": "stream",
     "text": [
      "391 użytkowników\n",
      "1001 sesji\n",
      "2.5601023017902813 średnio sesji na użytkownika\n"
     ]
    }
   ],
   "source": [
    "users = len(computers)\n",
    "print(users, \"użytkowników\")\n",
    "ses = 0\n",
    "for c in computers:\n",
    "    ses += len(computers[c].sessions)\n",
    "print(ses, \"sesji\")\n",
    "print(ses/users, \"średnio sesji na użytkownika\")"
   ]
  },
  {
   "cell_type": "code",
   "execution_count": 107,
   "metadata": {},
   "outputs": [
    {
     "data": {
      "image/png": "[encoded data removed]",
      "text/plain": [
       "<Figure size 432x288 with 1 Axes>"
      ]
     },
     "metadata": {
      "needs_background": "light"
     },
     "output_type": "display_data"
    }
   ],
   "source": [
    "data = []\n",
    "for c in computers:\n",
    "    for s in computers[c].sessions:\n",
    "        data.append(int((s.stopTime - s.startTime)/60))\n",
    "count, bins, ignored = plt.hist(data, 50, alpha=0.5, density=True)"
   ]
  },
  {
   "cell_type": "code",
   "execution_count": 64,
   "metadata": {},
   "outputs": [
    {
     "data": {
      "image/png": "[encoded data removed]",
      "text/plain": [
       "<Figure size 432x288 with 1 Axes>"
      ]
     },
     "metadata": {
      "needs_background": "light"
     },
     "output_type": "display_data"
    }
   ],
   "source": [
    "data = []\n",
    "for c in computers:\n",
    "    for s in computers[c].sessions:\n",
    "        data.append(len(s.requests))\n",
    "count, bins, ignored = plt.hist(data, 50, alpha=0.5, density=True)"
   ]
  },
  {
   "cell_type": "code",
   "execution_count": 90,
   "metadata": {},
   "outputs": [
    {
     "data": {
      "image/png": "[encoded data removed]",
      "text/plain": [
       "<Figure size 432x288 with 1 Axes>"
      ]
     },
     "metadata": {
      "needs_background": "light"
     },
     "output_type": "display_data"
    }
   ],
   "source": [
    "data = []\n",
    "for c in computers:\n",
    "    for s in computers[c].sessions:\n",
    "        data.append(int(s.startTime/3600))\n",
    "count, bins, ignored = plt.hist(data, 50, alpha=0.5, density=True)"
   ]
  },
  {
   "cell_type": "code",
   "execution_count": 106,
   "metadata": {},
   "outputs": [
    {
     "data": {
      "text/plain": [
       "([<matplotlib.axis.XTick at 0x2677ccfcac8>,\n",
       "  <matplotlib.axis.XTick at 0x2677ccfc148>,\n",
       "  <matplotlib.axis.XTick at 0x2677cce5cc8>,\n",
       "  <matplotlib.axis.XTick at 0x2677ca6e148>,\n",
       "  <matplotlib.axis.XTick at 0x2677ca6e7c8>,\n",
       "  <matplotlib.axis.XTick at 0x2677ca6ed88>],\n",
       " <a list of 6 Text xticklabel objects>)"
      ]
     },
     "execution_count": 106,
     "metadata": {},
     "output_type": "execute_result"
    },
    {
     "data": {
      "image/png": "[encoded data removed]",
      "text/plain": [
       "<Figure size 432x288 with 1 Axes>"
      ]
     },
     "metadata": {
      "needs_background": "light"
     },
     "output_type": "display_data"
    }
   ],
   "source": [
    "data = []\n",
    "for n in np.arange(len(PAGES)):\n",
    "    data.append(0)\n",
    "for c in computers:\n",
    "    for s in computers[c].sessions:\n",
    "        data[PAGES.index(s.requests[0].page)] += 1\n",
    "x_axis = np.arange(len(PAGES))\n",
    "plt.bar(x_axis, data, align='center', alpha=0.5)\n",
    "plt.xticks(x_axis, PAGES, rotation=90)"
   ]
  },
  {
   "cell_type": "code",
   "execution_count": 105,
   "metadata": {},
   "outputs": [
    {
     "data": {
      "text/plain": [
       "([<matplotlib.axis.XTick at 0x2677cdcf048>,\n",
       "  <matplotlib.axis.XTick at 0x2677cdb2948>,\n",
       "  <matplotlib.axis.XTick at 0x2677cbdfd48>,\n",
       "  <matplotlib.axis.XTick at 0x2677d058e48>,\n",
       "  <matplotlib.axis.XTick at 0x2677d050588>,\n",
       "  <matplotlib.axis.XTick at 0x2677d050cc8>],\n",
       " <a list of 6 Text xticklabel objects>)"
      ]
     },
     "execution_count": 105,
     "metadata": {},
     "output_type": "execute_result"
    },
    {
     "data": {
      "image/png": "[encoded data removed]",
      "text/plain": [
       "<Figure size 432x288 with 1 Axes>"
      ]
     },
     "metadata": {
      "needs_background": "light"
     },
     "output_type": "display_data"
    }
   ],
   "source": [
    "data = []\n",
    "times = []\n",
    "for n in np.arange(len(PAGES)):\n",
    "    data.append(0)\n",
    "    times.append(0)\n",
    "for c in computers:\n",
    "    for s in computers[c].sessions:\n",
    "        for i in np.arange(len(s.requests[:-1])):\n",
    "            times[PAGES.index(s.requests[i].page)] += s.requests[i + 1].time - s.requests[i].time\n",
    "            data[PAGES.index(s.requests[i].page)] += 1\n",
    "\n",
    "data = [times[x]/data[x]/60 if data[x]!=0 else 0 for x in np.arange(len(PAGES))]\n",
    "x_axis = np.arange(len(PAGES))\n",
    "plt.bar(x_axis, data, align='center', alpha=0.5)\n",
    "plt.xticks(x_axis, PAGES, rotation=90)"
   ]
  },
  {
   "cell_type": "code",
   "execution_count": 89,
   "metadata": {},
   "outputs": [
    {
     "name": "stdout",
     "output_type": "stream",
     "text": [
      "SESSION\n",
      "40429\n",
      "40429\n",
      "156.15.13.173     11:13:49 -> AddProduct.html\n",
      "  AddProduct.html    11:13:49\n",
      "\n",
      "SESSION\n",
      "40687\n",
      "41345\n",
      "176.247.135.49     11:18:07 -> Shop.html\n",
      "176.247.135.49     11:19:05 -> AddProduct.html\n",
      "176.247.135.49     11:29:05 -> Summary.html\n",
      "  Shop.html    11:18:07\n",
      "  AddProduct.html    11:19:05\n",
      "  Summary.html    11:29:05\n",
      "\n",
      "SESSION\n",
      "42239\n",
      "42758\n",
      "69.84.30.199     11:43:59 -> Shop.html\n",
      "69.84.30.199     11:45:16 -> AddProduct.html\n",
      "69.84.30.199     11:50:36 -> Summary.html\n",
      "69.84.30.199     11:52:38 -> Payment.html\n",
      "  Shop.html    11:43:59\n",
      "  AddProduct.html    11:45:16\n",
      "  Summary.html    11:50:36\n",
      "  Payment.html    11:52:38\n",
      "\n",
      "SESSION\n",
      "42405\n",
      "42927\n",
      "57.116.45.120     11:46:45 -> AddProduct.html\n",
      "57.116.45.120     11:53:25 -> Summary.html\n",
      "57.116.45.120     11:55:27 -> Payment.html\n",
      "  AddProduct.html    11:46:45\n",
      "  Summary.html    11:53:25\n",
      "  Payment.html    11:55:27\n",
      "\n",
      "SESSION\n",
      "42791\n",
      "43610\n",
      "26.19.183.202     11:53:11 -> AddProduct.html\n",
      "26.19.183.202     11:59:00 -> About.html\n",
      "26.19.183.202     12:06:50 -> Contact.html\n",
      "  AddProduct.html    11:53:11\n",
      "  About.html    11:59:00\n",
      "  Contact.html    12:06:50\n",
      "\n",
      "SESSION\n",
      "43489\n",
      "43574\n",
      "76.75.209.209     12:04:49 -> Shop.html\n",
      "76.75.209.209     12:06:14 -> AddProduct.html\n",
      "  Shop.html    12:04:49\n",
      "  AddProduct.html    12:06:14\n",
      "\n",
      "SESSION\n",
      "43765\n",
      "43838\n",
      "167.139.89.69     12:09:25 -> Shop.html\n",
      "167.139.89.69     12:10:38 -> About.html\n",
      "  Shop.html    12:09:25\n",
      "  About.html    12:10:38\n",
      "\n",
      "SESSION\n",
      "43837\n",
      "44498\n",
      "30.60.2.154     12:10:37 -> Shop.html\n",
      "30.60.2.154     12:12:01 -> About.html\n",
      "30.60.2.154     12:21:38 -> Contact.html\n",
      "  Shop.html    12:10:37\n",
      "  About.html    12:12:01\n",
      "  Contact.html    12:21:38\n",
      "\n",
      "SESSION\n",
      "43866\n",
      "43866\n",
      "156.128.6.230     12:11:06 -> Shop.html\n",
      "  Shop.html    12:11:06\n",
      "\n",
      "SESSION\n",
      "44011\n",
      "44011\n",
      "8.253.57.224     12:13:31 -> AddProduct.html\n",
      "  AddProduct.html    12:13:31\n",
      "\n"
     ]
    }
   ],
   "source": [
    "data = []\n",
    "for c in computers:\n",
    "    for s in computers[c].sessions:\n",
    "        data.append(s.startTime)\n",
    "data.sort()\n",
    "data = data[:10]\n",
    "for c in computers:\n",
    "    for s in computers[c].sessions:\n",
    "        if s.startTime in data:\n",
    "            print(s)"
   ]
  }
 ],
 "metadata": {
  "kernelspec": {
   "display_name": "Python 3",
   "language": "python",
   "name": "python3"
  },
  "language_info": {
   "codemirror_mode": {
    "name": "ipython",
    "version": 3
   },
   "file_extension": ".py",
   "mimetype": "text/x-python",
   "name": "python",
   "nbconvert_exporter": "python",
   "pygments_lexer": "ipython3",
   "version": "3.7.5"
  }
 },
 "nbformat": 4,
 "nbformat_minor": 2
}
